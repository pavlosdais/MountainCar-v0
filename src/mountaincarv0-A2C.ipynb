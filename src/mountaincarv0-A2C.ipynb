{
 "cells": [
  {
   "cell_type": "markdown",
   "metadata": {},
   "source": [
    "## **Advantage Actor Critic (A2C)**\n",
    "Pavlos Ntais - 1115202100122"
   ]
  },
  {
   "cell_type": "markdown",
   "metadata": {},
   "source": [
    "### **Import Libraries**"
   ]
  },
  {
   "cell_type": "code",
   "execution_count": 99,
   "metadata": {
    "_cell_guid": "b1076dfc-b9ad-4769-8c92-a6c4dae69d19",
    "_uuid": "8f2839f25d086af736a60e9eeb907d3b93b6e0e5",
    "execution": {
     "iopub.execute_input": "2025-01-21T01:27:42.241023Z",
     "iopub.status.busy": "2025-01-21T01:27:42.240420Z",
     "iopub.status.idle": "2025-01-21T01:27:42.247116Z",
     "shell.execute_reply": "2025-01-21T01:27:42.245387Z",
     "shell.execute_reply.started": "2025-01-21T01:27:42.240980Z"
    },
    "trusted": true
   },
   "outputs": [],
   "source": [
    "import gymnasium as gym\n",
    "import numpy as np\n",
    "from stable_baselines3 import A2C\n",
    "from stable_baselines3.common.vec_env import DummyVecEnv, VecNormalize\n",
    "from stable_baselines3.common.callbacks import BaseCallback\n",
    "import matplotlib.pyplot as plt\n",
    "from stable_baselines3.common.evaluation import evaluate_policy"
   ]
  },
  {
   "cell_type": "code",
   "execution_count": 100,
   "metadata": {
    "execution": {
     "iopub.execute_input": "2025-01-21T01:27:42.249330Z",
     "iopub.status.busy": "2025-01-21T01:27:42.248883Z",
     "iopub.status.idle": "2025-01-21T01:27:42.280701Z",
     "shell.execute_reply": "2025-01-21T01:27:42.279340Z",
     "shell.execute_reply.started": "2025-01-21T01:27:42.249288Z"
    },
    "trusted": true
   },
   "outputs": [],
   "source": [
    "seed_n = 42\n",
    "np.random.seed(seed_n)"
   ]
  },
  {
   "cell_type": "code",
   "execution_count": 101,
   "metadata": {
    "execution": {
     "iopub.execute_input": "2025-01-21T01:27:42.284032Z",
     "iopub.status.busy": "2025-01-21T01:27:42.283285Z",
     "iopub.status.idle": "2025-01-21T01:27:42.309736Z",
     "shell.execute_reply": "2025-01-21T01:27:42.308319Z",
     "shell.execute_reply.started": "2025-01-21T01:27:42.283983Z"
    },
    "trusted": true
   },
   "outputs": [],
   "source": [
    "rewards_list = list()\n",
    "\n",
    "episodes       = 785\n",
    "print_per_iter = 10\n",
    "\n",
    "class EpisodeRewardCallback(BaseCallback):\n",
    "    def __init__(self, verbose=0):\n",
    "        super(EpisodeRewardCallback, self).__init__(verbose)\n",
    "        self.episode_rewards        = list()\n",
    "        self.current_episode_reward = 0\n",
    "        self.curr_episode           = 0\n",
    "        self.verbose                = True\n",
    "\n",
    "    def _on_step(self) -> bool:\n",
    "        global rewards_list, print_per_iter\n",
    "        rewards = self.locals[\"rewards\"]\n",
    "        dones   = self.locals[\"dones\"]\n",
    "\n",
    "        self.current_episode_reward += rewards[0]\n",
    "\n",
    "        # at the end of an episode, print the total reward\n",
    "        if dones[0]:\n",
    "            if self.verbose and self.curr_episode % print_per_iter == 0 and self.curr_episode != 0:\n",
    "                avg_reward = np.mean(rewards_list[-print_per_iter:])\n",
    "                print(f\"Episode {self.curr_episode}, Reward: {avg_reward:.2f}\")\n",
    "                            \n",
    "            self.episode_rewards.append(self.current_episode_reward)\n",
    "            rewards_list.append(self.current_episode_reward)\n",
    "            self.current_episode_reward = 0\n",
    "            self.curr_episode += 1\n",
    "        \n",
    "        return True"
   ]
  },
  {
   "cell_type": "code",
   "execution_count": 102,
   "metadata": {
    "execution": {
     "iopub.execute_input": "2025-01-21T01:27:42.312039Z",
     "iopub.status.busy": "2025-01-21T01:27:42.311703Z",
     "iopub.status.idle": "2025-01-21T01:27:42.340871Z",
     "shell.execute_reply": "2025-01-21T01:27:42.339686Z",
     "shell.execute_reply.started": "2025-01-21T01:27:42.312013Z"
    },
    "trusted": true
   },
   "outputs": [],
   "source": [
    "# Create the environment\n",
    "env = gym.make('MountainCar-v0')\n",
    "\n",
    "def set_rand_env(env, seed=seed_n):\n",
    "    env.action_space.seed(seed)\n",
    "    state, _ = env.reset(seed=seed)\n",
    "\n",
    "set_rand_env(env)"
   ]
  },
  {
   "cell_type": "code",
   "execution_count": 103,
   "metadata": {
    "execution": {
     "iopub.execute_input": "2025-01-21T01:27:42.342254Z",
     "iopub.status.busy": "2025-01-21T01:27:42.341944Z",
     "iopub.status.idle": "2025-01-21T01:33:43.656806Z",
     "shell.execute_reply": "2025-01-21T01:33:43.655520Z",
     "shell.execute_reply.started": "2025-01-21T01:27:42.342227Z"
    },
    "trusted": true
   },
   "outputs": [
    {
     "name": "stdout",
     "output_type": "stream",
     "text": [
      "Episode 10, Reward: -200.00\n",
      "Episode 20, Reward: -200.00\n",
      "Episode 30, Reward: -200.00\n",
      "Episode 40, Reward: -200.00\n",
      "Episode 50, Reward: -200.00\n",
      "Episode 60, Reward: -200.00\n",
      "Episode 70, Reward: -200.00\n",
      "Episode 80, Reward: -200.00\n",
      "Episode 90, Reward: -200.00\n",
      "Episode 100, Reward: -200.00\n",
      "Episode 110, Reward: -200.00\n",
      "Episode 120, Reward: -200.00\n",
      "Episode 130, Reward: -200.00\n",
      "Episode 140, Reward: -200.00\n",
      "Episode 150, Reward: -200.00\n",
      "Episode 160, Reward: -200.00\n",
      "Episode 170, Reward: -200.00\n",
      "Episode 180, Reward: -200.00\n",
      "Episode 190, Reward: -200.00\n",
      "Episode 200, Reward: -200.00\n",
      "Episode 210, Reward: -200.00\n",
      "Episode 220, Reward: -200.00\n",
      "Episode 230, Reward: -200.00\n",
      "Episode 240, Reward: -200.00\n",
      "Episode 250, Reward: -200.00\n",
      "Episode 260, Reward: -200.00\n",
      "Episode 270, Reward: -200.00\n",
      "Episode 280, Reward: -200.00\n",
      "Episode 290, Reward: -200.00\n",
      "Episode 300, Reward: -200.00\n",
      "Episode 310, Reward: -200.00\n",
      "Episode 320, Reward: -198.50\n",
      "Episode 330, Reward: -188.20\n",
      "Episode 340, Reward: -183.40\n",
      "Episode 350, Reward: -177.00\n",
      "Episode 360, Reward: -182.50\n",
      "Episode 370, Reward: -156.70\n",
      "Episode 380, Reward: -140.60\n",
      "Episode 390, Reward: -167.00\n",
      "Episode 400, Reward: -184.90\n",
      "Episode 410, Reward: -191.90\n",
      "Episode 420, Reward: -185.90\n",
      "Episode 430, Reward: -183.70\n",
      "Episode 440, Reward: -186.50\n",
      "Episode 450, Reward: -185.00\n",
      "Episode 460, Reward: -196.30\n",
      "Episode 470, Reward: -196.30\n",
      "Episode 480, Reward: -158.90\n",
      "Episode 490, Reward: -179.60\n",
      "Episode 500, Reward: -175.60\n",
      "Episode 510, Reward: -143.20\n",
      "Episode 520, Reward: -156.00\n",
      "Episode 530, Reward: -162.30\n",
      "Episode 540, Reward: -166.80\n",
      "Episode 550, Reward: -138.70\n",
      "Episode 560, Reward: -133.10\n",
      "Episode 570, Reward: -137.10\n",
      "Episode 580, Reward: -121.20\n",
      "Episode 590, Reward: -123.50\n",
      "Episode 600, Reward: -127.40\n",
      "Episode 610, Reward: -109.70\n",
      "Episode 620, Reward: -129.40\n",
      "Episode 630, Reward: -132.00\n",
      "Episode 640, Reward: -121.20\n",
      "Episode 650, Reward: -125.80\n",
      "Episode 660, Reward: -130.50\n",
      "Episode 670, Reward: -122.40\n",
      "Episode 680, Reward: -133.00\n",
      "Episode 690, Reward: -133.30\n",
      "Episode 700, Reward: -136.90\n",
      "Episode 710, Reward: -130.80\n",
      "Episode 720, Reward: -122.60\n",
      "Episode 730, Reward: -141.30\n",
      "Episode 740, Reward: -150.10\n",
      "Episode 750, Reward: -137.90\n",
      "Episode 760, Reward: -142.10\n",
      "Episode 770, Reward: -146.80\n",
      "Episode 780, Reward: -148.60\n",
      "Episode 790, Reward: -147.70\n",
      "Episode 800, Reward: -144.10\n",
      "Episode 810, Reward: -146.90\n",
      "Episode 820, Reward: -146.80\n",
      "Episode 830, Reward: -141.50\n",
      "Episode 840, Reward: -145.00\n",
      "Episode 850, Reward: -144.00\n",
      "Episode 860, Reward: -143.90\n",
      "Episode 870, Reward: -147.30\n",
      "Episode 880, Reward: -146.90\n",
      "Episode 890, Reward: -144.10\n",
      "Episode 900, Reward: -142.40\n",
      "Episode 910, Reward: -142.00\n",
      "Episode 920, Reward: -145.80\n",
      "Episode 930, Reward: -143.10\n"
     ]
    },
    {
     "data": {
      "text/plain": [
       "<stable_baselines3.a2c.a2c.A2C at 0x7b8ef36cef80>"
      ]
     },
     "execution_count": 103,
     "metadata": {},
     "output_type": "execute_result"
    }
   ],
   "source": [
    "# Wrap the environment for Stable-Baselines3\n",
    "vec_env = DummyVecEnv([lambda: env])\n",
    "vec_env = VecNormalize(vec_env, norm_obs=True, norm_reward=False, clip_obs=10.0)  # Normalize observations only\n",
    "\n",
    "model = A2C(\n",
    "    \"MlpPolicy\",\n",
    "    vec_env,\n",
    "    verbose=0,\n",
    "    learning_rate=5e-4,\n",
    "    n_steps=5,\n",
    "    gamma=0.99,\n",
    "    gae_lambda=1.0,\n",
    "    seed=seed_n\n",
    ")\n",
    "\n",
    "# Train the model\n",
    "model.learn(total_timesteps=episodes * 200, callback=EpisodeRewardCallback())"
   ]
  },
  {
   "cell_type": "code",
   "execution_count": 106,
   "metadata": {
    "execution": {
     "iopub.execute_input": "2025-01-21T01:33:50.654671Z",
     "iopub.status.busy": "2025-01-21T01:33:50.654187Z",
     "iopub.status.idle": "2025-01-21T01:33:50.661423Z",
     "shell.execute_reply": "2025-01-21T01:33:50.660132Z",
     "shell.execute_reply.started": "2025-01-21T01:33:50.654637Z"
    },
    "trusted": true
   },
   "outputs": [],
   "source": [
    "def compute_rolling_average(rewards, window_size=print_per_iter):\n",
    "    \"\"\"\n",
    "    Computes the rolling average of rewards.\n",
    "\n",
    "    Args:\n",
    "        rewards (list): List of rewards per episode.\n",
    "        window_size (int): Number of episodes to average over.\n",
    "\n",
    "    Returns:\n",
    "        list: Rolling average rewards.\n",
    "    \"\"\"\n",
    "    \n",
    "    return [\n",
    "        np.mean(rewards[max(0, i - window_size + 1):i + 1])\n",
    "        for i in range(len(rewards))\n",
    "    ]\n",
    "\n",
    "def plot_single_reward(rewards, title, window_size=print_per_iter):\n",
    "    \"\"\"\n",
    "    Plots the average rewards (rolling average) for a single run.\n",
    "\n",
    "    Args:\n",
    "        rewards (list): List of rewards for each episode.\n",
    "        title (str): Title of the graph.\n",
    "        window_size (int): Number of episodes for rolling average.\n",
    "    \"\"\"\n",
    "    \n",
    "    avg_rewards = compute_rolling_average(rewards, window_size=window_size)\n",
    "    \n",
    "    plt.figure(figsize=(12, 6))\n",
    "    plt.plot(avg_rewards)\n",
    "    \n",
    "    plt.title(title)\n",
    "    plt.xlabel(\"Episodes\")\n",
    "    plt.ylabel(\"Average Reward\")\n",
    "    plt.legend()\n",
    "    plt.grid()\n",
    "    plt.show()"
   ]
  },
  {
   "cell_type": "code",
   "execution_count": 107,
   "metadata": {
    "execution": {
     "iopub.execute_input": "2025-01-21T01:33:53.324202Z",
     "iopub.status.busy": "2025-01-21T01:33:53.323848Z",
     "iopub.status.idle": "2025-01-21T01:33:54.926754Z",
     "shell.execute_reply": "2025-01-21T01:33:54.925542Z",
     "shell.execute_reply.started": "2025-01-21T01:33:53.324173Z"
    },
    "trusted": true
   },
   "outputs": [
    {
     "data": {
      "image/png": "[encoded data removed]",
      "text/plain": [
       "<Figure size 1200x600 with 1 Axes>"
      ]
     },
     "metadata": {},
     "output_type": "display_data"
    },
    {
     "name": "stdout",
     "output_type": "stream",
     "text": [
      "Mean reward: -144.1 +/- 2.211334438749598\n"
     ]
    }
   ],
   "source": [
    "plot_single_reward(rewards_list, \"A2C\")\n",
    "mean_reward, std_reward = evaluate_policy(model, vec_env, n_eval_episodes=10, deterministic=True)\n",
    "print(f\"Mean reward: {mean_reward} +/- {std_reward}\")"
   ]
  }
 ],
 "metadata": {
  "kaggle": {
   "accelerator": "none",
   "dataSources": [],
   "dockerImageVersionId": 30839,
   "isGpuEnabled": false,
   "isInternetEnabled": true,
   "language": "python",
   "sourceType": "notebook"
  },
  "kernelspec": {
   "display_name": "Python 3",
   "language": "python",
   "name": "python3"
  },
  "language_info": {
   "codemirror_mode": {
    "name": "ipython",
    "version": 3
   },
   "file_extension": ".py",
   "mimetype": "text/x-python",
   "name": "python",
   "nbconvert_exporter": "python",
   "pygments_lexer": "ipython3",
   "version": "3.10.12"
  }
 },
 "nbformat": 4,
 "nbformat_minor": 4
}
